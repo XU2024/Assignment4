{
  "nbformat": 4,
  "nbformat_minor": 0,
  "metadata": {
    "colab": {
      "name": "Copy of Copy of Assignment4",
      "provenance": [],
      "collapsed_sections": [],
      "include_colab_link": true
    },
    "kernelspec": {
      "name": "python3",
      "display_name": "Python 3"
    },
    "language_info": {
      "name": "python"
    }
  },
  "cells": [
    {
      "cell_type": "markdown",
      "metadata": {
        "id": "view-in-github",
        "colab_type": "text"
      },
      "source": [
        "<a href=\"https://colab.research.google.com/github/XU2024/Assignment4/blob/main/(Check%20the%20final%20one)Final%20version%20of%20Assignment4.ipynb\" target=\"_parent\"><img src=\"https://colab.research.google.com/assets/colab-badge.svg\" alt=\"Open In Colab\"/></a>"
      ]
    },
    {
      "cell_type": "markdown",
      "metadata": {
        "id": "1aBVFYV2uz5k"
      },
      "source": [
        "#[PyMan 0.9.31 Introduction to Python for Science](https://physics.nyu.edu/pine/pymanual/html/pymanMaster.html)\n",
        "\n",
        "###The following exercises correspond to chapter [4: Input and Output](https://physics.nyu.edu/pine/pymanual/html/chap4/chap4_io.html)"
      ]
    },
    {
      "cell_type": "code",
      "metadata": {
        "id": "mn4ubS38JhuG"
      },
      "source": [
        "import numpy as np"
      ],
      "execution_count": 1,
      "outputs": []
    },
    {
      "cell_type": "markdown",
      "metadata": {
        "id": "swqIV9ZB-qvZ"
      },
      "source": [
        "Look left <-----\n",
        "\n",
        "There's a folder icon on the bar. \n",
        "\n",
        "Click it. \n",
        "\n",
        "You should see a folder called \"sample_data.\" You don't need this sample data! It's a gift from google that you don't want. I wish there was some kind of [metaphor](https://www.dailymotion.com/video/x2hwqlw) for this situation.\n",
        "\n",
        "The code block below will download the data file and display its contents. "
      ]
    },
    {
      "cell_type": "code",
      "metadata": {
        "id": "c97uooE49Li8",
        "colab": {
          "base_uri": "https://localhost:8080/"
        },
        "outputId": "0ad667a8-ca31-42da-89cf-5fb56638c73f"
      },
      "source": [
        "!wget -nc https://raw.githubusercontent.com/NYUExperimentalPhysics1-2021/Assignment4/main/assignment4data.txt\n",
        "!more assignment4data.txt"
      ],
      "execution_count": 2,
      "outputs": [
        {
          "output_type": "stream",
          "name": "stdout",
          "text": [
            "--2021-10-08 19:56:01--  https://raw.githubusercontent.com/NYUExperimentalPhysics1-2021/Assignment4/main/assignment4data.txt\n",
            "Resolving raw.githubusercontent.com (raw.githubusercontent.com)... 185.199.108.133, 185.199.109.133, 185.199.110.133, ...\n",
            "Connecting to raw.githubusercontent.com (raw.githubusercontent.com)|185.199.108.133|:443... connected.\n",
            "HTTP request sent, awaiting response... 200 OK\n",
            "Length: 582 [text/plain]\n",
            "Saving to: ‘assignment4data.txt’\n",
            "\n",
            "\rassignment4data.txt   0%[                    ]       0  --.-KB/s               \rassignment4data.txt 100%[===================>]     582  --.-KB/s    in 0s      \n",
            "\n",
            "2021-10-08 19:56:01 (30.0 MB/s) - ‘assignment4data.txt’ saved [582/582]\n",
            "\n",
            "Date: 2013-09-16\n",
            "Data taken by Liam and Selena\n",
            "frequency (Hz) amplitude (mm)  amp error (mm)\n",
            "  0.7500        13.52         0.32\n",
            "  1.7885        12.11         0.92\n",
            "  2.8269        14.27         0.73\n",
            "  3.8654        16.60         2.06\n",
            "  4.9038        22.91         1.75\n",
            "  5.9423        35.28         0.91\n",
            "  6.9808        60.99         0.99\n",
            "  8.0192        33.38         0.36\n",
            "  9.0577        17.78         2.32\n",
            " 10.0962        10.99         0.21\n",
            " 11.1346         7.47         0.48\n",
            " 12.1731         6.72         0.51\n",
            " 13.2115         4.40         0.58\n",
            " 14.2500         4.07         0.63\n"
          ]
        }
      ]
    },
    {
      "cell_type": "markdown",
      "metadata": {
        "id": "ilrdAauiFSkS"
      },
      "source": [
        "You should check to see if your file is there. Click the folder with the circle arrow above the file lists (below the world Files); if you hover, it will say \"Refresh.\" Once it refreshes, you should see the file assignment4data.txt in the directory below the sample_data folder.\n"
      ]
    },
    {
      "cell_type": "markdown",
      "metadata": {
        "id": "X-emeIOQsp2a"
      },
      "source": [
        "##4.5.1\n",
        "\n",
        "Write a Python program that calculates how much money you can spend each day for lunch for the rest of the month based on today's date and how much money you currently have in your lunch account. The program should ask you: (1) how much money you have in your account, (2) what today's date is, and (3) how many days there are in this month. The program should return your daily allowance. The results of running your program should look like this:\n",
        "\n",
        "```\n",
        "How much money (in dollars) in your lunch account? 118.39\n",
        "\n",
        "What day of the month is today? 17\n",
        "\n",
        "How many days in this month? 30\n",
        "\n",
        "You can spend $8.46 each day for the rest of the month.\n",
        "```\n",
        "\n",
        "_Extra:_ Create a dictionary (see _[Dictionaries](https://physics.nyu.edu/pine/pymanual/html/chap3/chap3_arrays.html#chap3dictionaries)_) that stores the number of days in each month (forget about leap years) and have your program ask what month it is rather than the number of days in the month."
      ]
    },
    {
      "cell_type": "code",
      "metadata": {
        "id": "toJKg656sXwD",
        "colab": {
          "base_uri": "https://localhost:8080/"
        },
        "outputId": "f8c0dbf0-883e-42b8-9fbf-e435b3c0524d"
      },
      "source": [
        "##USE THIS CODE BLOCK TO COMPLETE EXERCISE 4.5.1##\n",
        "\n",
        "Numberdays = {\"Jan\":31,\"Feb\":28,\"Mar\":31, \"Apr\":30, \"May\":31, \"Jun\":30, \"July\":31, \"Aug\":31, \"Sep\":30, \"Oct\":31, \"Nov\":30, \"Dec\":31}\n",
        "Numberdays [\"Sep\"]\n",
        "\n",
        "Money = input(\"How much money (in dollars) in your lunch account?:\")\n",
        "Money = float(Money)\n",
        "Today =input(\"What day of the month is today?:\")\n",
        "Monthdays = input(\"How many days in this month?:\")\n",
        "\n",
        "\n",
        "Restdays = int(Monthdays) - int(Today) +1 \n",
        "MoneyEachDay = Money/Restdays\n",
        "\n",
        "print('You can spend $', MoneyEachDay, 'each day for the rest of the month')\n",
        "\n"
      ],
      "execution_count": 3,
      "outputs": [
        {
          "output_type": "stream",
          "name": "stdout",
          "text": [
            "How much money (in dollars) in your lunch account?:118.39\n",
            "What day of the month is today?:17\n",
            "How many days in this month?:30\n",
            "You can spend $ 8.456428571428571 each day for the rest of the month\n"
          ]
        }
      ]
    },
    {
      "cell_type": "markdown",
      "metadata": {
        "id": "Jy5ZpuxhvR59"
      },
      "source": [
        "##4.5.2\n",
        "\n",
        "From the IPython terminal, create the following three NumPy arrays:\n",
        "\n",
        "```\n",
        "a = array([1, 3, 5, 7])\n",
        "b = array([8, 7, 5, 4])\n",
        "c = array([0, 9,-6,-8])\n",
        "```\n",
        "\n",
        "Now use the `zip` function to create the object `d` defined as\n",
        "\n",
        "```\n",
        "d = zip(a, b, c)\n",
        "```\n",
        "\n",
        "Print `d` out at the terminal prompt. What kind of object is `d`? Hint: It is not a NumPy array. Convert `d` into a NumPy array and call that array `e`. Type `e` at the terminal prompt so that `e` is printed out on the IPython terminal. One of the elements of `e` is `-8`. Show how to address and print out just that element of `e`. Show how to address that same element of `d`. What has become of the three original arrays `a`,`b`, and `c`, that is, how do they appear in `e`?"
      ]
    },
    {
      "cell_type": "code",
      "metadata": {
        "id": "tIeYCRwYwKnU",
        "colab": {
          "base_uri": "https://localhost:8080/"
        },
        "outputId": "0b09d588-0757-44d4-8b9b-25fe7bf0c5be"
      },
      "source": [
        "##USE THIS CODE BLOCK TO COMPLETE EXERCISE 4.5.2##\n",
        "import numpy as np\n",
        "\n",
        "\n",
        "a=np.array([1,3,5,7])\n",
        "print (a)\n",
        "\n",
        "b=np.array([8,7,5,4])\n",
        "print (b)\n",
        "\n",
        "c=np.array([0,9,-6,-8])\n",
        "print (c)\n",
        "\n",
        "d= zip(a, b, c)\n",
        "print (d)\n",
        "\n",
        "e= np.array(list(d))\n",
        "print(e)\n",
        "\n",
        "print(e[3][2])"
      ],
      "execution_count": 4,
      "outputs": [
        {
          "output_type": "stream",
          "name": "stdout",
          "text": [
            "[1 3 5 7]\n",
            "[8 7 5 4]\n",
            "[ 0  9 -6 -8]\n",
            "<zip object at 0x7fe53d6a0f00>\n",
            "[[ 1  8  0]\n",
            " [ 3  7  9]\n",
            " [ 5  5 -6]\n",
            " [ 7  4 -8]]\n",
            "-8\n"
          ]
        }
      ]
    },
    {
      "cell_type": "markdown",
      "metadata": {
        "id": "lZw6-RAVwf4F"
      },
      "source": [
        "##4.5.3\n",
        "\n",
        "Write a Python script to read \"assignment4data.txt\" into three NumPy arrays with the variable names `f`,`a`,`da` for the frequency, amplitude, and amplitude error.\n",
        "\n",
        "```\n",
        "Date: 2013-09-16\n",
        "Data taken by Liam and Selena\n",
        "frequency (Hz) amplitude (mm)  amp error (mm)\n",
        "  0.7500        13.52         0.32\n",
        "  1.7885        12.11         0.92\n",
        "  2.8269        14.27         0.73\n",
        "  3.8654        16.60         2.06\n",
        "  4.9038        22.91         1.75\n",
        "  5.9423        35.28         0.91\n",
        "  6.9808        60.99         0.99\n",
        "  8.0192        33.38         0.36\n",
        "  9.0577        17.78         2.32\n",
        " 10.0962        10.99         0.21\n",
        " 11.1346         7.47         0.48\n",
        " 12.1731         6.72         0.51\n",
        " 13.2115         4.40         0.58\n",
        " 14.2500         4.07         0.63\n",
        " ```\n",
        "\n",
        "Show that you have correctly read in the data by having your script print out to your computer screen the three arrays. Format the printing so that it produces output like this:\n",
        "\n",
        "```\n",
        "f =\n",
        "[  0.75     1.7885   2.8269   3.8654   4.9038   5.9423\n",
        "   6.9808   8.0192   9.0577  10.0962  11.1346  12.1731\n",
        "   13.2115  14.25  ]\n",
        "a =\n",
        "[ 13.52  12.11  14.27  16.6   22.91  35.28  60.99  33.38\n",
        "  17.78  10.99   7.47   6.72   4.4    4.07]\n",
        "da =\n",
        "[ 0.32  0.92  0.73  2.06  1.75  0.91  0.99  0.36  2.32\n",
        "  0.21  0.48  0.51  0.58  0.63]\n",
        "```\n",
        "\n",
        "Note that the array `f` is displayed with four digits to the right of the decimal point while the arrays `a` and `da` are displayed with only two. The columns of the displayed arrays need not line up as they do above."
      ]
    },
    {
      "cell_type": "code",
      "metadata": {
        "id": "WMdzVvQs_hKd",
        "colab": {
          "base_uri": "https://localhost:8080/"
        },
        "outputId": "e10394b1-4d96-46f1-ae32-29e63c98f754"
      },
      "source": [
        "import numpy as np\n",
        "f,a,da = np.loadtxt(\"assignment4data.txt\", skiprows=3, unpack=True)\n",
        "print (\"f=\",f)\n",
        "print (\"a=\",a)\n",
        "print (\"da=\",da) "
      ],
      "execution_count": 6,
      "outputs": [
        {
          "output_type": "stream",
          "name": "stdout",
          "text": [
            "f= [ 0.75    1.7885  2.8269  3.8654  4.9038  5.9423  6.9808  8.0192  9.0577\n",
            " 10.0962 11.1346 12.1731 13.2115 14.25  ]\n",
            "a= [13.52 12.11 14.27 16.6  22.91 35.28 60.99 33.38 17.78 10.99  7.47  6.72\n",
            "  4.4   4.07]\n",
            "da= [0.32 0.92 0.73 2.06 1.75 0.91 0.99 0.36 2.32 0.21 0.48 0.51 0.58 0.63]\n"
          ]
        }
      ]
    },
    {
      "cell_type": "markdown",
      "metadata": {
        "id": "bM7bwbH_xcxQ"
      },
      "source": [
        "##4.5.4\n",
        "\n",
        "Now write the data you just read (`f`, `a`, `da`)  to a data file, including the header, with the data displayed in three columns, just as its displayed in the problem above. It's ok if the header lines begin with the `#` comment character. Your data file should be called `textfileanswer.txt`. "
      ]
    },
    {
      "cell_type": "code",
      "metadata": {
        "id": "aJOXa7KByDxX",
        "outputId": "4f3721b1-c640-4337-dc9b-9a93ec932b7d",
        "colab": {
          "base_uri": "https://localhost:8080/"
        }
      },
      "source": [
        "##USE THIS CODE BLOCK TO COMPLETE EXERCISE 4.5.4##\n",
        "import numpy as np\n",
        "\n",
        "f,a,da = np.loadtxt(\"assignment4data.txt\", skiprows=3, unpack=True)\n",
        "\n",
        "g=np.array(list(zip(f,a,da)))\n",
        "\n",
        "\n",
        "info='n\\n frequency(hz) amplitute(mm) amerror(mm)'\n",
        "np.savetxt('textfileanswer.txt', g, fmt=\"%0.18e\",delimiter=\"\", newline=\"\\n\", header=\"Data taken by Liam and Selena\"+info, comments=\"# \")\n",
        "\n",
        "d=open(\"textfileanswer.txt\",\"r\")\n",
        "print(d.read())"
      ],
      "execution_count": 16,
      "outputs": [
        {
          "output_type": "stream",
          "name": "stdout",
          "text": [
            "# Data taken by Liam and Selenan\n",
            "#  frequency(hz) amplitute(mm) amerror(mm)\n",
            "7.500000000000000000e-011.351999999999999957e+013.200000000000000067e-01\n",
            "1.788499999999999979e+001.210999999999999943e+019.200000000000000400e-01\n",
            "2.826900000000000190e+001.426999999999999957e+017.299999999999999822e-01\n",
            "3.865400000000000169e+001.660000000000000142e+012.060000000000000053e+00\n",
            "4.903800000000000381e+002.291000000000000014e+011.750000000000000000e+00\n",
            "5.942300000000000360e+003.528000000000000114e+019.100000000000000311e-01\n",
            "6.980800000000000338e+006.099000000000000199e+019.899999999999999911e-01\n",
            "8.019199999999999662e+003.338000000000000256e+013.599999999999999867e-01\n",
            "9.057700000000000529e+001.778000000000000114e+012.319999999999999840e+00\n",
            "1.009619999999999962e+011.099000000000000021e+012.099999999999999922e-01\n",
            "1.113460000000000072e+017.469999999999999751e+004.799999999999999822e-01\n",
            "1.217309999999999981e+016.719999999999999751e+005.100000000000000089e-01\n",
            "1.321149999999999913e+014.400000000000000355e+005.799999999999999600e-01\n",
            "1.425000000000000000e+014.070000000000000284e+006.300000000000000044e-01\n",
            "\n"
          ]
        }
      ]
    },
    {
      "cell_type": "markdown",
      "metadata": {
        "id": "erlKkKKZyF3G"
      },
      "source": [
        "##4.5.5\n",
        "\n",
        "Now write the same data to a csv data file, **without the header**, to a data file called `csvfileanswer.csv` with the data displayed in three columns. Use a single format specifier and set it to `\"%0.16e\"`. If you have access to a spreadsheet program (like MS Excel), try opening the file you have created with your Python script and verify that the arrays are displayed in three columns. Note that your csv file should have the extension `.csv`."
      ]
    },
    {
      "cell_type": "code",
      "metadata": {
        "id": "qoijigtKyyeT",
        "outputId": "b1a8dd8f-4042-4e1b-a249-972aab13a6b5",
        "colab": {
          "base_uri": "https://localhost:8080/"
        }
      },
      "source": [
        "##USE THIS CODE BLOCK TO COMPLETE EXERCISE 4.5.5##\n",
        "import numpy as np\n",
        "\n",
        "!wget -nc https://raw.githubusercontent.com/NYUExpertimentPhysics1-2021/Assignment4/main/assignment4data.txt\n",
        "!more assignment4data.txt\n",
        "\n",
        "f,a,da=np.loadtxt(\"assignment4data.txt\", skiprows=3, unpack=True)\n",
        "\n",
        "g=np.array(list(zip(f,a,da)))\n",
        "np.savetxt('csvfileanswer.csv',g, fmt=\"%0.16e\", delimiter=\" \", newline=\"\\n\", comments=\"# \")\n",
        "\n",
        "d=open(\"csvfileanswer.csv\",\"r\")\n",
        "print(d.read())"
      ],
      "execution_count": 26,
      "outputs": [
        {
          "output_type": "stream",
          "name": "stdout",
          "text": [
            "File ‘assignment4data.txt’ already there; not retrieving.\n",
            "\n",
            "Date: 2013-09-16\n",
            "Data taken by Liam and Selena\n",
            "frequency (Hz) amplitude (mm)  amp error (mm)\n",
            "  0.7500        13.52         0.32\n",
            "  1.7885        12.11         0.92\n",
            "  2.8269        14.27         0.73\n",
            "  3.8654        16.60         2.06\n",
            "  4.9038        22.91         1.75\n",
            "  5.9423        35.28         0.91\n",
            "  6.9808        60.99         0.99\n",
            "  8.0192        33.38         0.36\n",
            "  9.0577        17.78         2.32\n",
            " 10.0962        10.99         0.21\n",
            " 11.1346         7.47         0.48\n",
            " 12.1731         6.72         0.51\n",
            " 13.2115         4.40         0.58\n",
            " 14.2500         4.07         0.63\n",
            "7.5000000000000000e-01 1.3520000000000000e+01 3.2000000000000001e-01\n",
            "1.7885000000000000e+00 1.2109999999999999e+01 9.2000000000000004e-01\n",
            "2.8269000000000002e+00 1.4270000000000000e+01 7.2999999999999998e-01\n",
            "3.8654000000000002e+00 1.6600000000000001e+01 2.0600000000000001e+00\n",
            "4.9038000000000004e+00 2.2910000000000000e+01 1.7500000000000000e+00\n",
            "5.9423000000000004e+00 3.5280000000000001e+01 9.1000000000000003e-01\n",
            "6.9808000000000003e+00 6.0990000000000002e+01 9.8999999999999999e-01\n",
            "8.0191999999999997e+00 3.3380000000000003e+01 3.5999999999999999e-01\n",
            "9.0577000000000005e+00 1.7780000000000001e+01 2.3199999999999998e+00\n",
            "1.0096200000000000e+01 1.0990000000000000e+01 2.0999999999999999e-01\n",
            "1.1134600000000001e+01 7.4699999999999998e+00 4.7999999999999998e-01\n",
            "1.2173100000000000e+01 6.7199999999999998e+00 5.1000000000000001e-01\n",
            "1.3211499999999999e+01 4.4000000000000004e+00 5.7999999999999996e-01\n",
            "1.4250000000000000e+01 4.0700000000000003e+00 6.3000000000000000e-01\n",
            "\n"
          ]
        }
      ]
    },
    {
      "cell_type": "markdown",
      "metadata": {
        "id": "qsh52vdGF-rr"
      },
      "source": [
        "#YOU'RE NOT DONE!\n",
        "\n",
        "First, you should save a copy of this notebook to your github repository, using File>Save a copy in github, as usual. But this only commits your notebook. You'll also need to save the data files you created too!\n",
        "\n",
        "As soon as you close this browser, your beautiful files `textanswer.txt` and `csvanswer.csv` will dissappear into the ether. You need to turn them in so you can get a grade! \n",
        "\n",
        "1. Click on the dots next to each file's name (or right click on the file name) and select download. \n",
        "\n",
        "2. Open your repository on github ( it will be located at\n",
        "https://github.com/NYUExperimentalPhysics1-2021/assignment4-yourgithubusername  - you can also get to the repository from the github page that opens when you save your notebook in github) and click on the \"add file\" button and select upload. **OR**  you can go straight to the upload page at\n",
        "https://github.com/NYUExperimentalPhysics1-2021/assignment4-yourgithubusername/upload/main\n",
        "You'll have to replace \"yourgithubusername\" with your github username\n",
        "\n",
        "3. Drag the files you downloaded in Step 1 onto the upload box. \n",
        "\n",
        "4. Click commit changes (you can edit the commit message first if you want)\n",
        "\n",
        "\n"
      ]
    }
  ]
}